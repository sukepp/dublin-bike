{
 "cells": [
  {
   "cell_type": "markdown",
   "metadata": {},
   "source": [
    "# 1. Import packages"
   ]
  },
  {
   "cell_type": "code",
   "execution_count": 1,
   "metadata": {},
   "outputs": [],
   "source": [
    "import os\n",
    "import pymysql\n",
    "import pandas as pd\n",
    "import sys\n",
    "\n",
    "# Import package numpy for numeric computing\n",
    "import numpy as np\n",
    "import seaborn as sns\n",
    "from sklearn import metrics\n",
    "from sklearn.linear_model import LinearRegression\n",
    "from sklearn.model_selection import train_test_split\n",
    "\n",
    "# Import package matplotlib for visualisation/plotting\n",
    "import matplotlib.pyplot as plt\n",
    "import matplotlib.patches as mpatches\n",
    "#For showing plots directly in the notebook run the command below\n",
    "%matplotlib inline"
   ]
  },
  {
   "cell_type": "markdown",
   "metadata": {},
   "source": [
    "# 2. Connect to Amazon RDS"
   ]
  },
  {
   "cell_type": "code",
   "execution_count": 2,
   "metadata": {},
   "outputs": [
    {
     "name": "stdout",
     "output_type": "stream",
     "text": [
      "Connect to Database successfully.\n"
     ]
    }
   ],
   "source": [
    "# Declare and initialize database connection credentials\n",
    "host = 'dbbikes.cw9hkqmrhrqy.eu-west-1.rds.amazonaws.com'\n",
    "user = 'root'\n",
    "password = 'hanpeisong'\n",
    "db = 'dbbikes'\n",
    "\n",
    "# Attempt connection to database\n",
    "# Print a statement on the screen to check whether the connection is working\n",
    "try:\n",
    "    con = pymysql.connect(host = host, user = user, password = password, db = db, use_unicode = True, charset = 'utf8')\n",
    "    print('Connect to Database successfully.')\n",
    "except Exception as e:\n",
    "        sys.exit(e)"
   ]
  },
  {
   "cell_type": "markdown",
   "metadata": {},
   "source": [
    "# 3. Get Data"
   ]
  },
  {
   "cell_type": "code",
   "execution_count": 3,
   "metadata": {},
   "outputs": [
    {
     "data": {
      "text/html": [
       "<div>\n",
       "<style scoped>\n",
       "    .dataframe tbody tr th:only-of-type {\n",
       "        vertical-align: middle;\n",
       "    }\n",
       "\n",
       "    .dataframe tbody tr th {\n",
       "        vertical-align: top;\n",
       "    }\n",
       "\n",
       "    .dataframe thead th {\n",
       "        text-align: right;\n",
       "    }\n",
       "</style>\n",
       "<table border=\"1\" class=\"dataframe\">\n",
       "  <thead>\n",
       "    <tr style=\"text-align: right;\">\n",
       "      <th></th>\n",
       "      <th>id</th>\n",
       "      <th>station_id</th>\n",
       "      <th>status</th>\n",
       "      <th>bike_stands</th>\n",
       "      <th>available_bike_stands</th>\n",
       "      <th>available_bikes</th>\n",
       "      <th>last_update</th>\n",
       "    </tr>\n",
       "  </thead>\n",
       "  <tbody>\n",
       "    <tr>\n",
       "      <th>0</th>\n",
       "      <td>1</td>\n",
       "      <td>42</td>\n",
       "      <td>OPEN</td>\n",
       "      <td>30</td>\n",
       "      <td>26</td>\n",
       "      <td>4</td>\n",
       "      <td>2020-02-27 14:05:02</td>\n",
       "    </tr>\n",
       "    <tr>\n",
       "      <th>1</th>\n",
       "      <td>2</td>\n",
       "      <td>30</td>\n",
       "      <td>OPEN</td>\n",
       "      <td>20</td>\n",
       "      <td>19</td>\n",
       "      <td>1</td>\n",
       "      <td>2020-02-27 14:08:49</td>\n",
       "    </tr>\n",
       "    <tr>\n",
       "      <th>2</th>\n",
       "      <td>3</td>\n",
       "      <td>54</td>\n",
       "      <td>OPEN</td>\n",
       "      <td>33</td>\n",
       "      <td>17</td>\n",
       "      <td>16</td>\n",
       "      <td>2020-02-27 14:08:41</td>\n",
       "    </tr>\n",
       "    <tr>\n",
       "      <th>3</th>\n",
       "      <td>4</td>\n",
       "      <td>108</td>\n",
       "      <td>OPEN</td>\n",
       "      <td>40</td>\n",
       "      <td>39</td>\n",
       "      <td>1</td>\n",
       "      <td>2020-02-27 14:06:33</td>\n",
       "    </tr>\n",
       "    <tr>\n",
       "      <th>4</th>\n",
       "      <td>5</td>\n",
       "      <td>56</td>\n",
       "      <td>OPEN</td>\n",
       "      <td>40</td>\n",
       "      <td>2</td>\n",
       "      <td>38</td>\n",
       "      <td>2020-02-27 14:09:31</td>\n",
       "    </tr>\n",
       "    <tr>\n",
       "      <th>5</th>\n",
       "      <td>6</td>\n",
       "      <td>6</td>\n",
       "      <td>OPEN</td>\n",
       "      <td>20</td>\n",
       "      <td>12</td>\n",
       "      <td>8</td>\n",
       "      <td>2020-02-27 14:01:55</td>\n",
       "    </tr>\n",
       "    <tr>\n",
       "      <th>6</th>\n",
       "      <td>7</td>\n",
       "      <td>18</td>\n",
       "      <td>OPEN</td>\n",
       "      <td>30</td>\n",
       "      <td>23</td>\n",
       "      <td>7</td>\n",
       "      <td>2020-02-27 14:09:39</td>\n",
       "    </tr>\n",
       "    <tr>\n",
       "      <th>7</th>\n",
       "      <td>8</td>\n",
       "      <td>32</td>\n",
       "      <td>OPEN</td>\n",
       "      <td>30</td>\n",
       "      <td>20</td>\n",
       "      <td>10</td>\n",
       "      <td>2020-02-27 14:09:10</td>\n",
       "    </tr>\n",
       "    <tr>\n",
       "      <th>8</th>\n",
       "      <td>9</td>\n",
       "      <td>52</td>\n",
       "      <td>OPEN</td>\n",
       "      <td>32</td>\n",
       "      <td>18</td>\n",
       "      <td>14</td>\n",
       "      <td>2020-02-27 14:02:05</td>\n",
       "    </tr>\n",
       "    <tr>\n",
       "      <th>9</th>\n",
       "      <td>10</td>\n",
       "      <td>48</td>\n",
       "      <td>OPEN</td>\n",
       "      <td>40</td>\n",
       "      <td>13</td>\n",
       "      <td>27</td>\n",
       "      <td>2020-02-27 14:08:43</td>\n",
       "    </tr>\n",
       "  </tbody>\n",
       "</table>\n",
       "</div>"
      ],
      "text/plain": [
       "   id  station_id status  bike_stands  available_bike_stands  available_bikes  \\\n",
       "0   1          42   OPEN           30                     26                4   \n",
       "1   2          30   OPEN           20                     19                1   \n",
       "2   3          54   OPEN           33                     17               16   \n",
       "3   4         108   OPEN           40                     39                1   \n",
       "4   5          56   OPEN           40                      2               38   \n",
       "5   6           6   OPEN           20                     12                8   \n",
       "6   7          18   OPEN           30                     23                7   \n",
       "7   8          32   OPEN           30                     20               10   \n",
       "8   9          52   OPEN           32                     18               14   \n",
       "9  10          48   OPEN           40                     13               27   \n",
       "\n",
       "          last_update  \n",
       "0 2020-02-27 14:05:02  \n",
       "1 2020-02-27 14:08:49  \n",
       "2 2020-02-27 14:08:41  \n",
       "3 2020-02-27 14:06:33  \n",
       "4 2020-02-27 14:09:31  \n",
       "5 2020-02-27 14:01:55  \n",
       "6 2020-02-27 14:09:39  \n",
       "7 2020-02-27 14:09:10  \n",
       "8 2020-02-27 14:02:05  \n",
       "9 2020-02-27 14:08:43  "
      ]
     },
     "execution_count": 3,
     "metadata": {},
     "output_type": "execute_result"
    }
   ],
   "source": [
    "# Create dataframe and store data running SQL query\n",
    "df_bike = pd.read_sql_query(\"select * from dbbikes.bike\", con)\n",
    "\n",
    "# Examine dataframe object, show first 10 rows\n",
    "df_bike.head(10)"
   ]
  },
  {
   "cell_type": "code",
   "execution_count": 4,
   "metadata": {},
   "outputs": [
    {
     "data": {
      "text/html": [
       "<div>\n",
       "<style scoped>\n",
       "    .dataframe tbody tr th:only-of-type {\n",
       "        vertical-align: middle;\n",
       "    }\n",
       "\n",
       "    .dataframe tbody tr th {\n",
       "        vertical-align: top;\n",
       "    }\n",
       "\n",
       "    .dataframe thead th {\n",
       "        text-align: right;\n",
       "    }\n",
       "</style>\n",
       "<table border=\"1\" class=\"dataframe\">\n",
       "  <thead>\n",
       "    <tr style=\"text-align: right;\">\n",
       "      <th></th>\n",
       "      <th>id</th>\n",
       "      <th>coord_lon</th>\n",
       "      <th>coord_lat</th>\n",
       "      <th>weather_id</th>\n",
       "      <th>weather_main</th>\n",
       "      <th>weather_description</th>\n",
       "      <th>weather_icon</th>\n",
       "      <th>base</th>\n",
       "      <th>main_temp</th>\n",
       "      <th>main_feels_like</th>\n",
       "      <th>...</th>\n",
       "      <th>sys_type</th>\n",
       "      <th>sys_id</th>\n",
       "      <th>sys_message</th>\n",
       "      <th>sys_country</th>\n",
       "      <th>sys_sunrise</th>\n",
       "      <th>sys_sunset</th>\n",
       "      <th>timezone</th>\n",
       "      <th>city_id</th>\n",
       "      <th>name</th>\n",
       "      <th>cod</th>\n",
       "    </tr>\n",
       "  </thead>\n",
       "  <tbody>\n",
       "    <tr>\n",
       "      <th>0</th>\n",
       "      <td>2</td>\n",
       "      <td>-6.27</td>\n",
       "      <td>53.34</td>\n",
       "      <td>803</td>\n",
       "      <td>Clouds</td>\n",
       "      <td>broken clouds</td>\n",
       "      <td>04n</td>\n",
       "      <td>stations</td>\n",
       "      <td>277.51</td>\n",
       "      <td>273.19</td>\n",
       "      <td>...</td>\n",
       "      <td>1</td>\n",
       "      <td>1565</td>\n",
       "      <td>None</td>\n",
       "      <td>IE</td>\n",
       "      <td>2020-02-28 07:16:38</td>\n",
       "      <td>2020-02-28 17:59:11</td>\n",
       "      <td>0</td>\n",
       "      <td>2964574</td>\n",
       "      <td>Dublin</td>\n",
       "      <td>200</td>\n",
       "    </tr>\n",
       "    <tr>\n",
       "      <th>1</th>\n",
       "      <td>3</td>\n",
       "      <td>-6.27</td>\n",
       "      <td>53.34</td>\n",
       "      <td>803</td>\n",
       "      <td>Clouds</td>\n",
       "      <td>broken clouds</td>\n",
       "      <td>04n</td>\n",
       "      <td>stations</td>\n",
       "      <td>277.51</td>\n",
       "      <td>273.19</td>\n",
       "      <td>...</td>\n",
       "      <td>1</td>\n",
       "      <td>1565</td>\n",
       "      <td>None</td>\n",
       "      <td>IE</td>\n",
       "      <td>2020-02-28 07:16:38</td>\n",
       "      <td>2020-02-28 17:59:11</td>\n",
       "      <td>0</td>\n",
       "      <td>2964574</td>\n",
       "      <td>Dublin</td>\n",
       "      <td>200</td>\n",
       "    </tr>\n",
       "    <tr>\n",
       "      <th>2</th>\n",
       "      <td>4</td>\n",
       "      <td>-6.27</td>\n",
       "      <td>53.34</td>\n",
       "      <td>803</td>\n",
       "      <td>Clouds</td>\n",
       "      <td>broken clouds</td>\n",
       "      <td>04n</td>\n",
       "      <td>stations</td>\n",
       "      <td>277.51</td>\n",
       "      <td>273.19</td>\n",
       "      <td>...</td>\n",
       "      <td>1</td>\n",
       "      <td>1565</td>\n",
       "      <td>None</td>\n",
       "      <td>IE</td>\n",
       "      <td>2020-02-28 07:16:38</td>\n",
       "      <td>2020-02-28 17:59:11</td>\n",
       "      <td>0</td>\n",
       "      <td>2964574</td>\n",
       "      <td>Dublin</td>\n",
       "      <td>200</td>\n",
       "    </tr>\n",
       "    <tr>\n",
       "      <th>3</th>\n",
       "      <td>5</td>\n",
       "      <td>-6.27</td>\n",
       "      <td>53.34</td>\n",
       "      <td>803</td>\n",
       "      <td>Clouds</td>\n",
       "      <td>broken clouds</td>\n",
       "      <td>04n</td>\n",
       "      <td>stations</td>\n",
       "      <td>277.51</td>\n",
       "      <td>273.19</td>\n",
       "      <td>...</td>\n",
       "      <td>1</td>\n",
       "      <td>1565</td>\n",
       "      <td>None</td>\n",
       "      <td>IE</td>\n",
       "      <td>2020-02-28 07:16:38</td>\n",
       "      <td>2020-02-28 17:59:11</td>\n",
       "      <td>0</td>\n",
       "      <td>2964574</td>\n",
       "      <td>Dublin</td>\n",
       "      <td>200</td>\n",
       "    </tr>\n",
       "    <tr>\n",
       "      <th>4</th>\n",
       "      <td>6</td>\n",
       "      <td>-6.27</td>\n",
       "      <td>53.34</td>\n",
       "      <td>803</td>\n",
       "      <td>Clouds</td>\n",
       "      <td>broken clouds</td>\n",
       "      <td>04n</td>\n",
       "      <td>stations</td>\n",
       "      <td>277.58</td>\n",
       "      <td>273.27</td>\n",
       "      <td>...</td>\n",
       "      <td>1</td>\n",
       "      <td>1565</td>\n",
       "      <td>None</td>\n",
       "      <td>IE</td>\n",
       "      <td>2020-02-28 07:16:38</td>\n",
       "      <td>2020-02-28 17:59:11</td>\n",
       "      <td>0</td>\n",
       "      <td>2964574</td>\n",
       "      <td>Dublin</td>\n",
       "      <td>200</td>\n",
       "    </tr>\n",
       "    <tr>\n",
       "      <th>5</th>\n",
       "      <td>7</td>\n",
       "      <td>-6.27</td>\n",
       "      <td>53.34</td>\n",
       "      <td>803</td>\n",
       "      <td>Clouds</td>\n",
       "      <td>broken clouds</td>\n",
       "      <td>04n</td>\n",
       "      <td>stations</td>\n",
       "      <td>277.58</td>\n",
       "      <td>273.27</td>\n",
       "      <td>...</td>\n",
       "      <td>1</td>\n",
       "      <td>1565</td>\n",
       "      <td>None</td>\n",
       "      <td>IE</td>\n",
       "      <td>2020-02-28 07:16:38</td>\n",
       "      <td>2020-02-28 17:59:11</td>\n",
       "      <td>0</td>\n",
       "      <td>2964574</td>\n",
       "      <td>Dublin</td>\n",
       "      <td>200</td>\n",
       "    </tr>\n",
       "    <tr>\n",
       "      <th>6</th>\n",
       "      <td>8</td>\n",
       "      <td>-6.27</td>\n",
       "      <td>53.34</td>\n",
       "      <td>803</td>\n",
       "      <td>Clouds</td>\n",
       "      <td>broken clouds</td>\n",
       "      <td>04n</td>\n",
       "      <td>stations</td>\n",
       "      <td>277.58</td>\n",
       "      <td>273.27</td>\n",
       "      <td>...</td>\n",
       "      <td>1</td>\n",
       "      <td>1565</td>\n",
       "      <td>None</td>\n",
       "      <td>IE</td>\n",
       "      <td>2020-02-28 07:16:38</td>\n",
       "      <td>2020-02-28 17:59:11</td>\n",
       "      <td>0</td>\n",
       "      <td>2964574</td>\n",
       "      <td>Dublin</td>\n",
       "      <td>200</td>\n",
       "    </tr>\n",
       "    <tr>\n",
       "      <th>7</th>\n",
       "      <td>9</td>\n",
       "      <td>-6.27</td>\n",
       "      <td>53.34</td>\n",
       "      <td>803</td>\n",
       "      <td>Clouds</td>\n",
       "      <td>broken clouds</td>\n",
       "      <td>04n</td>\n",
       "      <td>stations</td>\n",
       "      <td>277.67</td>\n",
       "      <td>273.24</td>\n",
       "      <td>...</td>\n",
       "      <td>1</td>\n",
       "      <td>1565</td>\n",
       "      <td>None</td>\n",
       "      <td>IE</td>\n",
       "      <td>2020-02-28 07:16:38</td>\n",
       "      <td>2020-02-28 17:59:11</td>\n",
       "      <td>0</td>\n",
       "      <td>2964574</td>\n",
       "      <td>Dublin</td>\n",
       "      <td>200</td>\n",
       "    </tr>\n",
       "    <tr>\n",
       "      <th>8</th>\n",
       "      <td>10</td>\n",
       "      <td>-6.27</td>\n",
       "      <td>53.34</td>\n",
       "      <td>500</td>\n",
       "      <td>Rain</td>\n",
       "      <td>light rain</td>\n",
       "      <td>10d</td>\n",
       "      <td>stations</td>\n",
       "      <td>279.58</td>\n",
       "      <td>272.44</td>\n",
       "      <td>...</td>\n",
       "      <td>1</td>\n",
       "      <td>1565</td>\n",
       "      <td>None</td>\n",
       "      <td>IE</td>\n",
       "      <td>2020-02-28 07:16:38</td>\n",
       "      <td>2020-02-28 17:59:11</td>\n",
       "      <td>0</td>\n",
       "      <td>2964574</td>\n",
       "      <td>Dublin</td>\n",
       "      <td>200</td>\n",
       "    </tr>\n",
       "    <tr>\n",
       "      <th>9</th>\n",
       "      <td>11</td>\n",
       "      <td>-6.27</td>\n",
       "      <td>53.34</td>\n",
       "      <td>500</td>\n",
       "      <td>Rain</td>\n",
       "      <td>light rain</td>\n",
       "      <td>10d</td>\n",
       "      <td>stations</td>\n",
       "      <td>279.58</td>\n",
       "      <td>272.44</td>\n",
       "      <td>...</td>\n",
       "      <td>1</td>\n",
       "      <td>1565</td>\n",
       "      <td>None</td>\n",
       "      <td>IE</td>\n",
       "      <td>2020-02-28 07:16:38</td>\n",
       "      <td>2020-02-28 17:59:11</td>\n",
       "      <td>0</td>\n",
       "      <td>2964574</td>\n",
       "      <td>Dublin</td>\n",
       "      <td>200</td>\n",
       "    </tr>\n",
       "  </tbody>\n",
       "</table>\n",
       "<p>10 rows × 29 columns</p>\n",
       "</div>"
      ],
      "text/plain": [
       "   id  coord_lon  coord_lat  weather_id weather_main weather_description  \\\n",
       "0   2      -6.27      53.34         803       Clouds       broken clouds   \n",
       "1   3      -6.27      53.34         803       Clouds       broken clouds   \n",
       "2   4      -6.27      53.34         803       Clouds       broken clouds   \n",
       "3   5      -6.27      53.34         803       Clouds       broken clouds   \n",
       "4   6      -6.27      53.34         803       Clouds       broken clouds   \n",
       "5   7      -6.27      53.34         803       Clouds       broken clouds   \n",
       "6   8      -6.27      53.34         803       Clouds       broken clouds   \n",
       "7   9      -6.27      53.34         803       Clouds       broken clouds   \n",
       "8  10      -6.27      53.34         500         Rain          light rain   \n",
       "9  11      -6.27      53.34         500         Rain          light rain   \n",
       "\n",
       "  weather_icon      base  main_temp  main_feels_like  ...  sys_type  sys_id  \\\n",
       "0          04n  stations     277.51           273.19  ...         1    1565   \n",
       "1          04n  stations     277.51           273.19  ...         1    1565   \n",
       "2          04n  stations     277.51           273.19  ...         1    1565   \n",
       "3          04n  stations     277.51           273.19  ...         1    1565   \n",
       "4          04n  stations     277.58           273.27  ...         1    1565   \n",
       "5          04n  stations     277.58           273.27  ...         1    1565   \n",
       "6          04n  stations     277.58           273.27  ...         1    1565   \n",
       "7          04n  stations     277.67           273.24  ...         1    1565   \n",
       "8          10d  stations     279.58           272.44  ...         1    1565   \n",
       "9          10d  stations     279.58           272.44  ...         1    1565   \n",
       "\n",
       "   sys_message  sys_country         sys_sunrise          sys_sunset  timezone  \\\n",
       "0         None           IE 2020-02-28 07:16:38 2020-02-28 17:59:11         0   \n",
       "1         None           IE 2020-02-28 07:16:38 2020-02-28 17:59:11         0   \n",
       "2         None           IE 2020-02-28 07:16:38 2020-02-28 17:59:11         0   \n",
       "3         None           IE 2020-02-28 07:16:38 2020-02-28 17:59:11         0   \n",
       "4         None           IE 2020-02-28 07:16:38 2020-02-28 17:59:11         0   \n",
       "5         None           IE 2020-02-28 07:16:38 2020-02-28 17:59:11         0   \n",
       "6         None           IE 2020-02-28 07:16:38 2020-02-28 17:59:11         0   \n",
       "7         None           IE 2020-02-28 07:16:38 2020-02-28 17:59:11         0   \n",
       "8         None           IE 2020-02-28 07:16:38 2020-02-28 17:59:11         0   \n",
       "9         None           IE 2020-02-28 07:16:38 2020-02-28 17:59:11         0   \n",
       "\n",
       "   city_id    name  cod  \n",
       "0  2964574  Dublin  200  \n",
       "1  2964574  Dublin  200  \n",
       "2  2964574  Dublin  200  \n",
       "3  2964574  Dublin  200  \n",
       "4  2964574  Dublin  200  \n",
       "5  2964574  Dublin  200  \n",
       "6  2964574  Dublin  200  \n",
       "7  2964574  Dublin  200  \n",
       "8  2964574  Dublin  200  \n",
       "9  2964574  Dublin  200  \n",
       "\n",
       "[10 rows x 29 columns]"
      ]
     },
     "execution_count": 4,
     "metadata": {},
     "output_type": "execute_result"
    }
   ],
   "source": [
    "# Create dataframe and store data running SQL query\n",
    "df_weather = pd.read_sql_query(\"select * from dbbikes.weather\", con)\n",
    "\n",
    "# Examine dataframe object, show first 10 rows\n",
    "df_weather.head(10)"
   ]
  },
  {
   "cell_type": "markdown",
   "metadata": {},
   "source": [
    "# 3. Prepare Data"
   ]
  },
  {
   "cell_type": "markdown",
   "metadata": {},
   "source": [
    "## 3.1. Remove the repetitive data"
   ]
  },
  {
   "cell_type": "code",
   "execution_count": 5,
   "metadata": {},
   "outputs": [
    {
     "data": {
      "text/plain": [
       "(38022, 7)"
      ]
     },
     "execution_count": 5,
     "metadata": {},
     "output_type": "execute_result"
    }
   ],
   "source": [
    "# Bikes data\n",
    "df_bike['last_update'].describe().T\n",
    "df_bike.drop_duplicates(subset=['last_update'], keep='first', inplace=True)\n",
    "df_bike['last_update'].describe().T\n",
    "# Weather data\n",
    "df_weather['dt'].describe().T\n",
    "df_weather.drop_duplicates(subset=['dt'], keep='first', inplace=True)\n",
    "df_weather['dt'].describe().T\n",
    "df_bike.shape"
   ]
  },
  {
   "cell_type": "markdown",
   "metadata": {},
   "source": [
    "## 3.2. Merge the bikes and weather dataframes"
   ]
  },
  {
   "cell_type": "code",
   "execution_count": 6,
   "metadata": {},
   "outputs": [],
   "source": [
    "df_bike.rename(columns={'last_update':'dt'}, inplace=True)\n",
    "df_bike['dt_hour'] = df_bike['dt'].dt.hour\n",
    "df_bike['dt_min'] = df_bike['dt'].dt.minute\n",
    "df_bike['dt_date'] = df_bike['dt'].dt.date\n",
    "# The day of the week with Monday=0, Sunday=6.\n",
    "df_bike['dt_dayofweek'] = df_bike['dt'].dt.dayofweek\n",
    "df_weather['dt_hour'] = df_weather['dt'].dt.hour\n",
    "df_weather['dt_min'] = df_weather['dt'].dt.minute\n",
    "df_weather['dt_date'] = df_weather['dt'].dt.date"
   ]
  },
  {
   "cell_type": "code",
   "execution_count": 7,
   "metadata": {},
   "outputs": [
    {
     "data": {
      "text/plain": [
       "id_x                              int64\n",
       "station_id                        int64\n",
       "status                           object\n",
       "bike_stands                       int64\n",
       "available_bike_stands             int64\n",
       "available_bikes                   int64\n",
       "dt_x                     datetime64[ns]\n",
       "dt_hour                           int64\n",
       "dt_min                            int64\n",
       "dt_date                          object\n",
       "dt_dayofweek                      int64\n",
       "id_y                              int64\n",
       "coord_lon                       float64\n",
       "coord_lat                       float64\n",
       "weather_id                        int64\n",
       "weather_main                     object\n",
       "weather_description              object\n",
       "weather_icon                     object\n",
       "base                             object\n",
       "main_temp                       float64\n",
       "main_feels_like                 float64\n",
       "main_temp_min                   float64\n",
       "main_temp_max                   float64\n",
       "main_pressure                     int64\n",
       "main_humidity                     int64\n",
       "visibility                        int64\n",
       "wind_speed                      float64\n",
       "wind_deg                          int64\n",
       "clouds_all                        int64\n",
       "dt_y                     datetime64[ns]\n",
       "sys_type                          int64\n",
       "sys_id                            int64\n",
       "sys_message                      object\n",
       "sys_country                      object\n",
       "sys_sunrise              datetime64[ns]\n",
       "sys_sunset               datetime64[ns]\n",
       "timezone                          int64\n",
       "city_id                           int64\n",
       "name                             object\n",
       "cod                               int64\n",
       "dtype: object"
      ]
     },
     "execution_count": 7,
     "metadata": {},
     "output_type": "execute_result"
    }
   ],
   "source": [
    "# Merge dataframes\n",
    "df_merged = pd.merge(df_bike, df_weather, on = ['dt_min', 'dt_date', 'dt_hour'], how = 'inner')\n",
    "# Show first 2 scraps (oldest) for stations (113*2=226)\n",
    "df_merged.dtypes"
   ]
  },
  {
   "cell_type": "code",
   "execution_count": 8,
   "metadata": {},
   "outputs": [
    {
     "data": {
      "text/html": [
       "<div>\n",
       "<style scoped>\n",
       "    .dataframe tbody tr th:only-of-type {\n",
       "        vertical-align: middle;\n",
       "    }\n",
       "\n",
       "    .dataframe tbody tr th {\n",
       "        vertical-align: top;\n",
       "    }\n",
       "\n",
       "    .dataframe thead th {\n",
       "        text-align: right;\n",
       "    }\n",
       "</style>\n",
       "<table border=\"1\" class=\"dataframe\">\n",
       "  <thead>\n",
       "    <tr style=\"text-align: right;\">\n",
       "      <th></th>\n",
       "      <th>count</th>\n",
       "      <th>mean</th>\n",
       "      <th>std</th>\n",
       "      <th>min</th>\n",
       "      <th>25%</th>\n",
       "      <th>50%</th>\n",
       "      <th>75%</th>\n",
       "      <th>max</th>\n",
       "    </tr>\n",
       "  </thead>\n",
       "  <tbody>\n",
       "    <tr>\n",
       "      <th>station_id</th>\n",
       "      <td>2362.0</td>\n",
       "      <td>59.557155</td>\n",
       "      <td>33.565343</td>\n",
       "      <td>2.00</td>\n",
       "      <td>31.00</td>\n",
       "      <td>59.00</td>\n",
       "      <td>89.00</td>\n",
       "      <td>117.00</td>\n",
       "    </tr>\n",
       "    <tr>\n",
       "      <th>available_bike_stands</th>\n",
       "      <td>2362.0</td>\n",
       "      <td>19.585944</td>\n",
       "      <td>11.050212</td>\n",
       "      <td>0.00</td>\n",
       "      <td>11.00</td>\n",
       "      <td>20.00</td>\n",
       "      <td>28.00</td>\n",
       "      <td>40.00</td>\n",
       "    </tr>\n",
       "    <tr>\n",
       "      <th>available_bikes</th>\n",
       "      <td>2362.0</td>\n",
       "      <td>12.248095</td>\n",
       "      <td>9.891633</td>\n",
       "      <td>0.00</td>\n",
       "      <td>4.00</td>\n",
       "      <td>11.00</td>\n",
       "      <td>18.00</td>\n",
       "      <td>40.00</td>\n",
       "    </tr>\n",
       "    <tr>\n",
       "      <th>dt_hour</th>\n",
       "      <td>2362.0</td>\n",
       "      <td>12.475445</td>\n",
       "      <td>5.533735</td>\n",
       "      <td>0.00</td>\n",
       "      <td>9.00</td>\n",
       "      <td>13.00</td>\n",
       "      <td>16.00</td>\n",
       "      <td>23.00</td>\n",
       "    </tr>\n",
       "    <tr>\n",
       "      <th>dt_min</th>\n",
       "      <td>2362.0</td>\n",
       "      <td>28.126164</td>\n",
       "      <td>17.935982</td>\n",
       "      <td>0.00</td>\n",
       "      <td>14.00</td>\n",
       "      <td>28.00</td>\n",
       "      <td>44.00</td>\n",
       "      <td>59.00</td>\n",
       "    </tr>\n",
       "    <tr>\n",
       "      <th>dt_dayofweek</th>\n",
       "      <td>2362.0</td>\n",
       "      <td>4.560965</td>\n",
       "      <td>1.723068</td>\n",
       "      <td>0.00</td>\n",
       "      <td>4.00</td>\n",
       "      <td>5.00</td>\n",
       "      <td>6.00</td>\n",
       "      <td>6.00</td>\n",
       "    </tr>\n",
       "    <tr>\n",
       "      <th>main_temp</th>\n",
       "      <td>2362.0</td>\n",
       "      <td>279.492837</td>\n",
       "      <td>3.138410</td>\n",
       "      <td>274.21</td>\n",
       "      <td>276.96</td>\n",
       "      <td>278.57</td>\n",
       "      <td>281.15</td>\n",
       "      <td>286.20</td>\n",
       "    </tr>\n",
       "    <tr>\n",
       "      <th>main_feels_like</th>\n",
       "      <td>2362.0</td>\n",
       "      <td>273.206820</td>\n",
       "      <td>4.253591</td>\n",
       "      <td>265.76</td>\n",
       "      <td>269.63</td>\n",
       "      <td>272.57</td>\n",
       "      <td>276.43</td>\n",
       "      <td>282.17</td>\n",
       "    </tr>\n",
       "    <tr>\n",
       "      <th>visibility</th>\n",
       "      <td>2362.0</td>\n",
       "      <td>9900.084674</td>\n",
       "      <td>494.107585</td>\n",
       "      <td>6000.00</td>\n",
       "      <td>10000.00</td>\n",
       "      <td>10000.00</td>\n",
       "      <td>10000.00</td>\n",
       "      <td>10000.00</td>\n",
       "    </tr>\n",
       "    <tr>\n",
       "      <th>wind_speed</th>\n",
       "      <td>2362.0</td>\n",
       "      <td>6.800140</td>\n",
       "      <td>2.525889</td>\n",
       "      <td>0.50</td>\n",
       "      <td>5.10</td>\n",
       "      <td>6.70</td>\n",
       "      <td>8.70</td>\n",
       "      <td>12.30</td>\n",
       "    </tr>\n",
       "    <tr>\n",
       "      <th>wind_deg</th>\n",
       "      <td>2362.0</td>\n",
       "      <td>6.814564</td>\n",
       "      <td>2.458532</td>\n",
       "      <td>1.00</td>\n",
       "      <td>5.00</td>\n",
       "      <td>7.00</td>\n",
       "      <td>9.00</td>\n",
       "      <td>12.00</td>\n",
       "    </tr>\n",
       "  </tbody>\n",
       "</table>\n",
       "</div>"
      ],
      "text/plain": [
       "                        count         mean         std      min       25%  \\\n",
       "station_id             2362.0    59.557155   33.565343     2.00     31.00   \n",
       "available_bike_stands  2362.0    19.585944   11.050212     0.00     11.00   \n",
       "available_bikes        2362.0    12.248095    9.891633     0.00      4.00   \n",
       "dt_hour                2362.0    12.475445    5.533735     0.00      9.00   \n",
       "dt_min                 2362.0    28.126164   17.935982     0.00     14.00   \n",
       "dt_dayofweek           2362.0     4.560965    1.723068     0.00      4.00   \n",
       "main_temp              2362.0   279.492837    3.138410   274.21    276.96   \n",
       "main_feels_like        2362.0   273.206820    4.253591   265.76    269.63   \n",
       "visibility             2362.0  9900.084674  494.107585  6000.00  10000.00   \n",
       "wind_speed             2362.0     6.800140    2.525889     0.50      5.10   \n",
       "wind_deg               2362.0     6.814564    2.458532     1.00      5.00   \n",
       "\n",
       "                            50%       75%       max  \n",
       "station_id                59.00     89.00    117.00  \n",
       "available_bike_stands     20.00     28.00     40.00  \n",
       "available_bikes           11.00     18.00     40.00  \n",
       "dt_hour                   13.00     16.00     23.00  \n",
       "dt_min                    28.00     44.00     59.00  \n",
       "dt_dayofweek               5.00      6.00      6.00  \n",
       "main_temp                278.57    281.15    286.20  \n",
       "main_feels_like          272.57    276.43    282.17  \n",
       "visibility             10000.00  10000.00  10000.00  \n",
       "wind_speed                 6.70      8.70     12.30  \n",
       "wind_deg                   7.00      9.00     12.00  "
      ]
     },
     "execution_count": 8,
     "metadata": {},
     "output_type": "execute_result"
    }
   ],
   "source": [
    "# Select columns containing categorical data\n",
    "categorical_columns = df_merged[['weather_main']].columns\n",
    "# Select columns containing continuous data\n",
    "continuous_columns = df_merged[['station_id', 'available_bike_stands', 'available_bikes', 'dt_hour', 'dt_min', 'dt_dayofweek', \n",
    "                         'main_temp', 'main_feels_like', 'visibility', 'wind_speed', 'wind_deg']].columns\n",
    "# Print table\n",
    "df_merged[continuous_columns].describe().T"
   ]
  },
  {
   "cell_type": "code",
   "execution_count": 9,
   "metadata": {},
   "outputs": [
    {
     "data": {
      "text/html": [
       "<div>\n",
       "<style scoped>\n",
       "    .dataframe tbody tr th:only-of-type {\n",
       "        vertical-align: middle;\n",
       "    }\n",
       "\n",
       "    .dataframe tbody tr th {\n",
       "        vertical-align: top;\n",
       "    }\n",
       "\n",
       "    .dataframe thead th {\n",
       "        text-align: right;\n",
       "    }\n",
       "</style>\n",
       "<table border=\"1\" class=\"dataframe\">\n",
       "  <thead>\n",
       "    <tr style=\"text-align: right;\">\n",
       "      <th></th>\n",
       "      <th>count</th>\n",
       "      <th>unique</th>\n",
       "      <th>top</th>\n",
       "      <th>freq</th>\n",
       "    </tr>\n",
       "  </thead>\n",
       "  <tbody>\n",
       "    <tr>\n",
       "      <th>weather_main</th>\n",
       "      <td>2362</td>\n",
       "      <td>4</td>\n",
       "      <td>Clouds</td>\n",
       "      <td>1657</td>\n",
       "    </tr>\n",
       "  </tbody>\n",
       "</table>\n",
       "</div>"
      ],
      "text/plain": [
       "             count unique     top  freq\n",
       "weather_main  2362      4  Clouds  1657"
      ]
     },
     "execution_count": 9,
     "metadata": {},
     "output_type": "execute_result"
    }
   ],
   "source": [
    "# Print table with descriptive statistics for all the categorical features\n",
    "df_merged[categorical_columns].describe().T"
   ]
  },
  {
   "cell_type": "markdown",
   "metadata": {},
   "source": [
    "## 3.3. Correlations for the numeric features for all stations"
   ]
  },
  {
   "cell_type": "code",
   "execution_count": 10,
   "metadata": {},
   "outputs": [
    {
     "data": {
      "text/plain": [
       "(array([ 0.5,  1.5,  2.5,  3.5,  4.5,  5.5,  6.5,  7.5,  8.5,  9.5, 10.5]),\n",
       " <a list of 11 Text xticklabel objects>)"
      ]
     },
     "execution_count": 10,
     "metadata": {},
     "output_type": "execute_result"
    },
    {
     "data": {
      "image/png": "[encoded data removed]",
      "text/plain": [
       "<Figure size 792x648 with 2 Axes>"
      ]
     },
     "metadata": {},
     "output_type": "display_data"
    }
   ],
   "source": [
    "# Correlation matrix using code found on https://stanford.edu/~mwaskom/software/seaborn/examples/many_pairwise_correlations.html\n",
    "sns.set(style=\"white\")\n",
    "\n",
    "# Calculate correlation of all pairs of continuous features\n",
    "corr = df_merged[continuous_columns].corr()\n",
    "\n",
    "# Generate a mask for the upper triangle\n",
    "mask = np.zeros_like(corr, dtype=np.bool)\n",
    "mask[np.triu_indices_from(mask)] = True\n",
    "\n",
    "# Set up the matplotlib figure\n",
    "f, ax = plt.subplots(figsize=(11, 9))\n",
    "\n",
    "# Generate a custom colormap - blue and red\n",
    "cmap = sns.diverging_palette(220, 10, as_cmap=True)\n",
    "\n",
    "# Draw the heatmap with the mask and correct aspect ratio\n",
    "sns.heatmap(corr, annot=True, mask=mask, cmap=cmap, vmax=1, vmin=-1,\n",
    "            square=True, xticklabels=True, yticklabels=True,\n",
    "            linewidths=.5, cbar_kws={\"shrink\": .5}, ax=ax)\n",
    "plt.yticks(rotation = 0)\n",
    "plt.xticks(rotation = 45)"
   ]
  },
  {
   "cell_type": "code",
   "execution_count": 11,
   "metadata": {},
   "outputs": [
    {
     "name": "stderr",
     "output_type": "stream",
     "text": [
      "'c' argument looks like a single numeric RGB or RGBA sequence, which should be avoided as value-mapping will have precedence in case its length matches with 'x' & 'y'.  Please use a 2-D array with a single row if you really want to specify the same RGB or RGBA value for all points.\n",
      "'c' argument looks like a single numeric RGB or RGBA sequence, which should be avoided as value-mapping will have precedence in case its length matches with 'x' & 'y'.  Please use a 2-D array with a single row if you really want to specify the same RGB or RGBA value for all points.\n",
      "'c' argument looks like a single numeric RGB or RGBA sequence, which should be avoided as value-mapping will have precedence in case its length matches with 'x' & 'y'.  Please use a 2-D array with a single row if you really want to specify the same RGB or RGBA value for all points.\n",
      "'c' argument looks like a single numeric RGB or RGBA sequence, which should be avoided as value-mapping will have precedence in case its length matches with 'x' & 'y'.  Please use a 2-D array with a single row if you really want to specify the same RGB or RGBA value for all points.\n"
     ]
    },
    {
     "data": {
      "text/plain": [
       "<matplotlib.axes._subplots.AxesSubplot at 0x21e77b69fc8>"
      ]
     },
     "execution_count": 11,
     "metadata": {},
     "output_type": "execute_result"
    },
    {
     "data": {
      "image/png": "[encoded data removed]",
      "text/plain": [
       "<Figure size 432x288 with 1 Axes>"
      ]
     },
     "metadata": {},
     "output_type": "display_data"
    },
    {
     "data": {
      "image/png": "[encoded data removed]",
      "text/plain": [
       "<Figure size 432x288 with 1 Axes>"
      ]
     },
     "metadata": {},
     "output_type": "display_data"
    },
    {
     "data": {
      "image/png": "[encoded data removed]",
      "text/plain": [
       "<Figure size 432x288 with 1 Axes>"
      ]
     },
     "metadata": {},
     "output_type": "display_data"
    },
    {
     "data": {
      "image/png": "[encoded data removed]",
      "text/plain": [
       "<Figure size 432x288 with 1 Axes>"
      ]
     },
     "metadata": {},
     "output_type": "display_data"
    }
   ],
   "source": [
    "df_merged.plot(kind='scatter', x='available_bikes', y='dt_hour')\n",
    "df_merged.plot(kind='scatter', x='available_bikes', y='dt_dayofweek')\n",
    "df_merged.plot(kind='scatter', x='available_bike_stands', y='dt_hour')\n",
    "df_merged.plot(kind='scatter', x='available_bike_stands', y='dt_dayofweek')"
   ]
  },
  {
   "cell_type": "markdown",
   "metadata": {},
   "source": [
    "## 3.4. Correlations for the category features for all stations"
   ]
  },
  {
   "cell_type": "code",
   "execution_count": 12,
   "metadata": {},
   "outputs": [
    {
     "data": {
      "text/plain": [
       "<matplotlib.axes._subplots.AxesSubplot at 0x21e77bfb048>"
      ]
     },
     "execution_count": 12,
     "metadata": {},
     "output_type": "execute_result"
    },
    {
     "data": {
      "text/plain": [
       "<Figure size 432x288 with 0 Axes>"
      ]
     },
     "metadata": {},
     "output_type": "display_data"
    },
    {
     "data": {
      "image/png": "[encoded data removed]",
      "text/plain": [
       "<Figure size 720x504 with 1 Axes>"
      ]
     },
     "metadata": {},
     "output_type": "display_data"
    },
    {
     "data": {
      "image/png": "[encoded data removed]",
      "text/plain": [
       "<Figure size 720x504 with 1 Axes>"
      ]
     },
     "metadata": {},
     "output_type": "display_data"
    }
   ],
   "source": [
    "plt.figure()\n",
    "flierprops = dict(marker='o', markerfacecolor='green', markersize=6,\n",
    "                  linestyle='none')\n",
    "df_merged.boxplot(column=['available_bikes'], by=['weather_main'], flierprops=flierprops, figsize=(10,7))\n",
    "df_merged.boxplot(column=['available_bike_stands'], by=['weather_main'], flierprops=flierprops, figsize=(10,7))"
   ]
  },
  {
   "cell_type": "markdown",
   "metadata": {},
   "source": [
    "## 3.5. Discovery for now\n",
    "From the charts above, it can be seen that if we consider all of the stations together, there is no obvious relationship between available biks/stands and other featers. So we consider a single station to explore the relationship. "
   ]
  },
  {
   "cell_type": "markdown",
   "metadata": {},
   "source": [
    "## 3.6. Correlations for the numeric features for a sigle station ( eg: station 42 )"
   ]
  },
  {
   "cell_type": "code",
   "execution_count": 13,
   "metadata": {},
   "outputs": [
    {
     "data": {
      "text/html": [
       "<div>\n",
       "<style scoped>\n",
       "    .dataframe tbody tr th:only-of-type {\n",
       "        vertical-align: middle;\n",
       "    }\n",
       "\n",
       "    .dataframe tbody tr th {\n",
       "        vertical-align: top;\n",
       "    }\n",
       "\n",
       "    .dataframe thead th {\n",
       "        text-align: right;\n",
       "    }\n",
       "</style>\n",
       "<table border=\"1\" class=\"dataframe\">\n",
       "  <thead>\n",
       "    <tr style=\"text-align: right;\">\n",
       "      <th></th>\n",
       "      <th>id</th>\n",
       "      <th>station_id</th>\n",
       "      <th>status</th>\n",
       "      <th>bike_stands</th>\n",
       "      <th>available_bike_stands</th>\n",
       "      <th>available_bikes</th>\n",
       "      <th>dt</th>\n",
       "      <th>dt_hour</th>\n",
       "      <th>dt_min</th>\n",
       "      <th>dt_date</th>\n",
       "      <th>dt_dayofweek</th>\n",
       "    </tr>\n",
       "  </thead>\n",
       "  <tbody>\n",
       "    <tr>\n",
       "      <th>0</th>\n",
       "      <td>1</td>\n",
       "      <td>42</td>\n",
       "      <td>OPEN</td>\n",
       "      <td>30</td>\n",
       "      <td>26</td>\n",
       "      <td>4</td>\n",
       "      <td>2020-02-27 14:05:02</td>\n",
       "      <td>14</td>\n",
       "      <td>5</td>\n",
       "      <td>2020-02-27</td>\n",
       "      <td>3</td>\n",
       "    </tr>\n",
       "    <tr>\n",
       "      <th>110</th>\n",
       "      <td>331</td>\n",
       "      <td>42</td>\n",
       "      <td>OPEN</td>\n",
       "      <td>30</td>\n",
       "      <td>1</td>\n",
       "      <td>29</td>\n",
       "      <td>2020-02-28 01:22:54</td>\n",
       "      <td>1</td>\n",
       "      <td>22</td>\n",
       "      <td>2020-02-28</td>\n",
       "      <td>4</td>\n",
       "    </tr>\n",
       "    <tr>\n",
       "      <th>330</th>\n",
       "      <td>551</td>\n",
       "      <td>42</td>\n",
       "      <td>OPEN</td>\n",
       "      <td>30</td>\n",
       "      <td>1</td>\n",
       "      <td>29</td>\n",
       "      <td>2020-02-28 01:33:03</td>\n",
       "      <td>1</td>\n",
       "      <td>33</td>\n",
       "      <td>2020-02-28</td>\n",
       "      <td>4</td>\n",
       "    </tr>\n",
       "    <tr>\n",
       "      <th>550</th>\n",
       "      <td>771</td>\n",
       "      <td>42</td>\n",
       "      <td>OPEN</td>\n",
       "      <td>30</td>\n",
       "      <td>1</td>\n",
       "      <td>29</td>\n",
       "      <td>2020-02-28 01:43:11</td>\n",
       "      <td>1</td>\n",
       "      <td>43</td>\n",
       "      <td>2020-02-28</td>\n",
       "      <td>4</td>\n",
       "    </tr>\n",
       "    <tr>\n",
       "      <th>770</th>\n",
       "      <td>991</td>\n",
       "      <td>42</td>\n",
       "      <td>OPEN</td>\n",
       "      <td>30</td>\n",
       "      <td>1</td>\n",
       "      <td>29</td>\n",
       "      <td>2020-02-28 01:53:19</td>\n",
       "      <td>1</td>\n",
       "      <td>53</td>\n",
       "      <td>2020-02-28</td>\n",
       "      <td>4</td>\n",
       "    </tr>\n",
       "  </tbody>\n",
       "</table>\n",
       "</div>"
      ],
      "text/plain": [
       "      id  station_id status  bike_stands  available_bike_stands  \\\n",
       "0      1          42   OPEN           30                     26   \n",
       "110  331          42   OPEN           30                      1   \n",
       "330  551          42   OPEN           30                      1   \n",
       "550  771          42   OPEN           30                      1   \n",
       "770  991          42   OPEN           30                      1   \n",
       "\n",
       "     available_bikes                  dt  dt_hour  dt_min     dt_date  \\\n",
       "0                  4 2020-02-27 14:05:02       14       5  2020-02-27   \n",
       "110               29 2020-02-28 01:22:54        1      22  2020-02-28   \n",
       "330               29 2020-02-28 01:33:03        1      33  2020-02-28   \n",
       "550               29 2020-02-28 01:43:11        1      43  2020-02-28   \n",
       "770               29 2020-02-28 01:53:19        1      53  2020-02-28   \n",
       "\n",
       "     dt_dayofweek  \n",
       "0               3  \n",
       "110             4  \n",
       "330             4  \n",
       "550             4  \n",
       "770             4  "
      ]
     },
     "execution_count": 13,
     "metadata": {},
     "output_type": "execute_result"
    }
   ],
   "source": [
    "df_station_42 = df_bike[df_bike['station_id']==42]\n",
    "#df_bike['station_id'] == 42\n",
    "df_station_42.head()"
   ]
  },
  {
   "cell_type": "code",
   "execution_count": 14,
   "metadata": {},
   "outputs": [
    {
     "name": "stderr",
     "output_type": "stream",
     "text": [
      "'c' argument looks like a single numeric RGB or RGBA sequence, which should be avoided as value-mapping will have precedence in case its length matches with 'x' & 'y'.  Please use a 2-D array with a single row if you really want to specify the same RGB or RGBA value for all points.\n",
      "'c' argument looks like a single numeric RGB or RGBA sequence, which should be avoided as value-mapping will have precedence in case its length matches with 'x' & 'y'.  Please use a 2-D array with a single row if you really want to specify the same RGB or RGBA value for all points.\n",
      "'c' argument looks like a single numeric RGB or RGBA sequence, which should be avoided as value-mapping will have precedence in case its length matches with 'x' & 'y'.  Please use a 2-D array with a single row if you really want to specify the same RGB or RGBA value for all points.\n",
      "'c' argument looks like a single numeric RGB or RGBA sequence, which should be avoided as value-mapping will have precedence in case its length matches with 'x' & 'y'.  Please use a 2-D array with a single row if you really want to specify the same RGB or RGBA value for all points.\n"
     ]
    },
    {
     "data": {
      "text/plain": [
       "<matplotlib.axes._subplots.AxesSubplot at 0x21e77ee6b48>"
      ]
     },
     "execution_count": 14,
     "metadata": {},
     "output_type": "execute_result"
    },
    {
     "data": {
      "image/png": "[encoded data removed]",
      "text/plain": [
       "<Figure size 432x288 with 1 Axes>"
      ]
     },
     "metadata": {},
     "output_type": "display_data"
    },
    {
     "data": {
      "image/png": "[encoded data removed]",
      "text/plain": [
       "<Figure size 432x288 with 1 Axes>"
      ]
     },
     "metadata": {},
     "output_type": "display_data"
    },
    {
     "data": {
      "image/png": "[encoded data removed]",
      "text/plain": [
       "<Figure size 432x288 with 1 Axes>"
      ]
     },
     "metadata": {},
     "output_type": "display_data"
    },
    {
     "data": {
      "image/png": "[encoded data removed]",
      "text/plain": [
       "<Figure size 432x288 with 1 Axes>"
      ]
     },
     "metadata": {},
     "output_type": "display_data"
    }
   ],
   "source": [
    "df_station_42.plot(kind='scatter', x='dt_hour', y='available_bikes')\n",
    "df_station_42.plot(kind='scatter', x='dt_dayofweek', y='available_bikes')\n",
    "df_station_42.plot(kind='scatter', x='dt_hour', y='available_bike_stands')\n",
    "df_station_42.plot(kind='scatter', x='dt_dayofweek', y='available_bike_stands')"
   ]
  },
  {
   "cell_type": "code",
   "execution_count": 15,
   "metadata": {},
   "outputs": [
    {
     "data": {
      "text/html": [
       "<div>\n",
       "<style scoped>\n",
       "    .dataframe tbody tr th:only-of-type {\n",
       "        vertical-align: middle;\n",
       "    }\n",
       "\n",
       "    .dataframe tbody tr th {\n",
       "        vertical-align: top;\n",
       "    }\n",
       "\n",
       "    .dataframe thead th {\n",
       "        text-align: right;\n",
       "    }\n",
       "</style>\n",
       "<table border=\"1\" class=\"dataframe\">\n",
       "  <thead>\n",
       "    <tr style=\"text-align: right;\">\n",
       "      <th></th>\n",
       "      <th>id_x</th>\n",
       "      <th>station_id</th>\n",
       "      <th>status</th>\n",
       "      <th>bike_stands</th>\n",
       "      <th>available_bike_stands</th>\n",
       "      <th>available_bikes</th>\n",
       "      <th>dt_x</th>\n",
       "      <th>dt_hour</th>\n",
       "      <th>dt_min</th>\n",
       "      <th>dt_date</th>\n",
       "      <th>...</th>\n",
       "      <th>sys_type</th>\n",
       "      <th>sys_id</th>\n",
       "      <th>sys_message</th>\n",
       "      <th>sys_country</th>\n",
       "      <th>sys_sunrise</th>\n",
       "      <th>sys_sunset</th>\n",
       "      <th>timezone</th>\n",
       "      <th>city_id</th>\n",
       "      <th>name</th>\n",
       "      <th>cod</th>\n",
       "    </tr>\n",
       "  </thead>\n",
       "  <tbody>\n",
       "    <tr>\n",
       "      <th>0</th>\n",
       "      <td>331</td>\n",
       "      <td>42</td>\n",
       "      <td>OPEN</td>\n",
       "      <td>30</td>\n",
       "      <td>1</td>\n",
       "      <td>29</td>\n",
       "      <td>2020-02-28 01:22:54</td>\n",
       "      <td>1</td>\n",
       "      <td>22</td>\n",
       "      <td>2020-02-28</td>\n",
       "      <td>...</td>\n",
       "      <td>1</td>\n",
       "      <td>1565</td>\n",
       "      <td>None</td>\n",
       "      <td>IE</td>\n",
       "      <td>2020-02-28 07:16:38</td>\n",
       "      <td>2020-02-28 17:59:11</td>\n",
       "      <td>0</td>\n",
       "      <td>2964574</td>\n",
       "      <td>Dublin</td>\n",
       "      <td>200</td>\n",
       "    </tr>\n",
       "    <tr>\n",
       "      <th>166</th>\n",
       "      <td>4291</td>\n",
       "      <td>42</td>\n",
       "      <td>OPEN</td>\n",
       "      <td>30</td>\n",
       "      <td>27</td>\n",
       "      <td>2</td>\n",
       "      <td>2020-02-28 13:51:36</td>\n",
       "      <td>13</td>\n",
       "      <td>51</td>\n",
       "      <td>2020-02-28</td>\n",
       "      <td>...</td>\n",
       "      <td>1</td>\n",
       "      <td>1565</td>\n",
       "      <td>None</td>\n",
       "      <td>IE</td>\n",
       "      <td>2020-02-28 07:16:38</td>\n",
       "      <td>2020-02-28 17:59:11</td>\n",
       "      <td>0</td>\n",
       "      <td>2964574</td>\n",
       "      <td>Dublin</td>\n",
       "      <td>200</td>\n",
       "    </tr>\n",
       "    <tr>\n",
       "      <th>235</th>\n",
       "      <td>6711</td>\n",
       "      <td>42</td>\n",
       "      <td>OPEN</td>\n",
       "      <td>30</td>\n",
       "      <td>11</td>\n",
       "      <td>19</td>\n",
       "      <td>2020-02-28 16:51:43</td>\n",
       "      <td>16</td>\n",
       "      <td>51</td>\n",
       "      <td>2020-02-28</td>\n",
       "      <td>...</td>\n",
       "      <td>1</td>\n",
       "      <td>1565</td>\n",
       "      <td>None</td>\n",
       "      <td>IE</td>\n",
       "      <td>2020-02-28 07:16:38</td>\n",
       "      <td>2020-02-28 17:59:11</td>\n",
       "      <td>0</td>\n",
       "      <td>2964574</td>\n",
       "      <td>Dublin</td>\n",
       "      <td>200</td>\n",
       "    </tr>\n",
       "    <tr>\n",
       "      <th>439</th>\n",
       "      <td>11881</td>\n",
       "      <td>42</td>\n",
       "      <td>OPEN</td>\n",
       "      <td>30</td>\n",
       "      <td>3</td>\n",
       "      <td>27</td>\n",
       "      <td>2020-02-29 23:43:13</td>\n",
       "      <td>23</td>\n",
       "      <td>43</td>\n",
       "      <td>2020-02-29</td>\n",
       "      <td>...</td>\n",
       "      <td>1</td>\n",
       "      <td>1565</td>\n",
       "      <td>None</td>\n",
       "      <td>IE</td>\n",
       "      <td>2020-02-29 07:14:21</td>\n",
       "      <td>2020-02-29 18:01:06</td>\n",
       "      <td>0</td>\n",
       "      <td>2964574</td>\n",
       "      <td>Dublin</td>\n",
       "      <td>200</td>\n",
       "    </tr>\n",
       "    <tr>\n",
       "      <th>453</th>\n",
       "      <td>12101</td>\n",
       "      <td>42</td>\n",
       "      <td>OPEN</td>\n",
       "      <td>30</td>\n",
       "      <td>3</td>\n",
       "      <td>27</td>\n",
       "      <td>2020-02-29 23:53:21</td>\n",
       "      <td>23</td>\n",
       "      <td>53</td>\n",
       "      <td>2020-02-29</td>\n",
       "      <td>...</td>\n",
       "      <td>1</td>\n",
       "      <td>1565</td>\n",
       "      <td>None</td>\n",
       "      <td>IE</td>\n",
       "      <td>2020-02-29 07:14:21</td>\n",
       "      <td>2020-02-29 18:01:06</td>\n",
       "      <td>0</td>\n",
       "      <td>2964574</td>\n",
       "      <td>Dublin</td>\n",
       "      <td>200</td>\n",
       "    </tr>\n",
       "  </tbody>\n",
       "</table>\n",
       "<p>5 rows × 40 columns</p>\n",
       "</div>"
      ],
      "text/plain": [
       "      id_x  station_id status  bike_stands  available_bike_stands  \\\n",
       "0      331          42   OPEN           30                      1   \n",
       "166   4291          42   OPEN           30                     27   \n",
       "235   6711          42   OPEN           30                     11   \n",
       "439  11881          42   OPEN           30                      3   \n",
       "453  12101          42   OPEN           30                      3   \n",
       "\n",
       "     available_bikes                dt_x  dt_hour  dt_min     dt_date  ...  \\\n",
       "0                 29 2020-02-28 01:22:54        1      22  2020-02-28  ...   \n",
       "166                2 2020-02-28 13:51:36       13      51  2020-02-28  ...   \n",
       "235               19 2020-02-28 16:51:43       16      51  2020-02-28  ...   \n",
       "439               27 2020-02-29 23:43:13       23      43  2020-02-29  ...   \n",
       "453               27 2020-02-29 23:53:21       23      53  2020-02-29  ...   \n",
       "\n",
       "     sys_type  sys_id  sys_message  sys_country         sys_sunrise  \\\n",
       "0           1    1565         None           IE 2020-02-28 07:16:38   \n",
       "166         1    1565         None           IE 2020-02-28 07:16:38   \n",
       "235         1    1565         None           IE 2020-02-28 07:16:38   \n",
       "439         1    1565         None           IE 2020-02-29 07:14:21   \n",
       "453         1    1565         None           IE 2020-02-29 07:14:21   \n",
       "\n",
       "             sys_sunset timezone  city_id    name  cod  \n",
       "0   2020-02-28 17:59:11        0  2964574  Dublin  200  \n",
       "166 2020-02-28 17:59:11        0  2964574  Dublin  200  \n",
       "235 2020-02-28 17:59:11        0  2964574  Dublin  200  \n",
       "439 2020-02-29 18:01:06        0  2964574  Dublin  200  \n",
       "453 2020-02-29 18:01:06        0  2964574  Dublin  200  \n",
       "\n",
       "[5 rows x 40 columns]"
      ]
     },
     "execution_count": 15,
     "metadata": {},
     "output_type": "execute_result"
    }
   ],
   "source": [
    "df_station_42 = df_merged[df_merged['station_id']==42]\n",
    "#df_bike['station_id'] == 42\n",
    "df_station_42.head()"
   ]
  },
  {
   "cell_type": "markdown",
   "metadata": {},
   "source": [
    "## 3.7. Correlations for the category features for all stations"
   ]
  },
  {
   "cell_type": "code",
   "execution_count": 16,
   "metadata": {},
   "outputs": [
    {
     "data": {
      "text/plain": [
       "<matplotlib.axes._subplots.AxesSubplot at 0x21e77ffabc8>"
      ]
     },
     "execution_count": 16,
     "metadata": {},
     "output_type": "execute_result"
    },
    {
     "data": {
      "text/plain": [
       "<Figure size 432x288 with 0 Axes>"
      ]
     },
     "metadata": {},
     "output_type": "display_data"
    },
    {
     "data": {
      "image/png": "[encoded data removed]",
      "text/plain": [
       "<Figure size 720x504 with 1 Axes>"
      ]
     },
     "metadata": {},
     "output_type": "display_data"
    },
    {
     "data": {
      "image/png": "[encoded data removed]",
      "text/plain": [
       "<Figure size 720x504 with 1 Axes>"
      ]
     },
     "metadata": {},
     "output_type": "display_data"
    }
   ],
   "source": [
    "plt.figure()\n",
    "flierprops = dict(marker='o', markerfacecolor='green', markersize=6,\n",
    "                  linestyle='none')\n",
    "df_station_42.boxplot(column=['available_bikes'], by=['weather_main'], flierprops=flierprops, figsize=(10,7))\n",
    "df_station_42.boxplot(column=['available_bike_stands'], by=['weather_main'], flierprops=flierprops, figsize=(10,7))"
   ]
  },
  {
   "cell_type": "markdown",
   "metadata": {},
   "source": [
    "## 3.8. Transform the wearther category feature into numeric feature"
   ]
  },
  {
   "cell_type": "markdown",
   "metadata": {},
   "source": [
    "From the above chart, we can see that the raining factor have a major infulence. Therefore, we transform the feature into rain feature which only indicates if it rains or not."
   ]
  },
  {
   "cell_type": "code",
   "execution_count": 17,
   "metadata": {},
   "outputs": [
    {
     "name": "stderr",
     "output_type": "stream",
     "text": [
      "D:\\Software\\Anaconda\\Anaconda\\envs\\dbbikes\\lib\\site-packages\\ipykernel_launcher.py:1: SettingWithCopyWarning: \n",
      "A value is trying to be set on a copy of a slice from a DataFrame.\n",
      "Try using .loc[row_indexer,col_indexer] = value instead\n",
      "\n",
      "See the caveats in the documentation: https://pandas.pydata.org/pandas-docs/stable/user_guide/indexing.html#returning-a-view-versus-a-copy\n",
      "  \"\"\"Entry point for launching an IPython kernel.\n"
     ]
    }
   ],
   "source": [
    "df_station_42['rain'] = df_station_42.weather_main.apply(lambda x: 1 if 'Rain' in x else 0)\n",
    "df_merged['rain'] = df_merged.weather_main.apply(lambda x: 1 if 'Rain' in x else 0)"
   ]
  },
  {
   "cell_type": "markdown",
   "metadata": {},
   "source": [
    "# 4. ML Model"
   ]
  },
  {
   "cell_type": "markdown",
   "metadata": {},
   "source": [
    "## 4.1. Model Training"
   ]
  },
  {
   "cell_type": "code",
   "execution_count": 18,
   "metadata": {},
   "outputs": [
    {
     "name": "stdout",
     "output_type": "stream",
     "text": [
      "Training the model on 18 rows and 3 columns.\n",
      "Testing the model on 7 rows.\n"
     ]
    }
   ],
   "source": [
    "# Select model features and store them in a new dataframe\n",
    "input_data = pd.DataFrame(df_station_42[['dt_dayofweek', 'dt_hour', 'rain']])\n",
    "\n",
    "# Define target variable\n",
    "output_data = df_station_42['available_bikes']\n",
    "\n",
    "# Split dataset to train and test\n",
    "x_train, x_test, y_train, y_test = train_test_split(input_data, output_data, test_size=0.25, random_state=42)\n",
    "print(\"Training the model on %s rows and %s columns.\" % x_train.shape)\n",
    "\n",
    "lr = LinearRegression()\n",
    "\n",
    "# Train the model\n",
    "lr.fit(x_train, y_train)\n",
    "\n",
    "print(\"Testing the model on %s rows.\" % y_test.shape[0])"
   ]
  },
  {
   "cell_type": "code",
   "execution_count": 19,
   "metadata": {},
   "outputs": [
    {
     "data": {
      "text/plain": [
       "id_x                              int64\n",
       "station_id                        int64\n",
       "status                           object\n",
       "bike_stands                       int64\n",
       "available_bike_stands             int64\n",
       "available_bikes                   int64\n",
       "dt_x                     datetime64[ns]\n",
       "dt_hour                           int64\n",
       "dt_min                            int64\n",
       "dt_date                          object\n",
       "dt_dayofweek                      int64\n",
       "id_y                              int64\n",
       "coord_lon                       float64\n",
       "coord_lat                       float64\n",
       "weather_id                        int64\n",
       "weather_main                     object\n",
       "weather_description              object\n",
       "weather_icon                     object\n",
       "base                             object\n",
       "main_temp                       float64\n",
       "main_feels_like                 float64\n",
       "main_temp_min                   float64\n",
       "main_temp_max                   float64\n",
       "main_pressure                     int64\n",
       "main_humidity                     int64\n",
       "visibility                        int64\n",
       "wind_speed                      float64\n",
       "wind_deg                          int64\n",
       "clouds_all                        int64\n",
       "dt_y                     datetime64[ns]\n",
       "sys_type                          int64\n",
       "sys_id                            int64\n",
       "sys_message                      object\n",
       "sys_country                      object\n",
       "sys_sunrise              datetime64[ns]\n",
       "sys_sunset               datetime64[ns]\n",
       "timezone                          int64\n",
       "city_id                           int64\n",
       "name                             object\n",
       "cod                               int64\n",
       "rain                              int64\n",
       "dtype: object"
      ]
     },
     "execution_count": 19,
     "metadata": {},
     "output_type": "execute_result"
    }
   ],
   "source": [
    "df_station_42.dtypes"
   ]
  },
  {
   "cell_type": "markdown",
   "metadata": {},
   "source": [
    "## 4.2 Model Testing"
   ]
  },
  {
   "cell_type": "code",
   "execution_count": 20,
   "metadata": {},
   "outputs": [
    {
     "name": "stdout",
     "output_type": "stream",
     "text": [
      "[26.97469128 30.24408598 10.65253211 26.68096602 27.86983682 25.78931292\n",
      " 28.46427222]\n",
      "640     30\n",
      "1189    24\n",
      "0       29\n",
      "2160    15\n",
      "962     27\n",
      "683     30\n",
      "1082    29\n",
      "Name: available_bikes, dtype: int64\n"
     ]
    }
   ],
   "source": [
    "# Get prediction for test cases\n",
    "prediction = lr.predict(x_test)\n",
    "\n",
    "# Show the predicted test cases\n",
    "print(prediction)\n",
    "print(y_test)"
   ]
  },
  {
   "cell_type": "markdown",
   "metadata": {},
   "source": [
    "## 4.3. Model Evaluation"
   ]
  },
  {
   "cell_type": "code",
   "execution_count": 21,
   "metadata": {},
   "outputs": [
    {
     "name": "stdout",
     "output_type": "stream",
     "text": [
      "RMSE: 8.783012\n"
     ]
    }
   ],
   "source": [
    "print(\"RMSE: %f\" % np.sqrt(metrics.mean_squared_error(y_test, prediction)))"
   ]
  },
  {
   "cell_type": "markdown",
   "metadata": {},
   "source": [
    "## 4.4. Discovery so far\n",
    "We can see that the model for a single station will have a good prediction result. So we generate model for each station."
   ]
  },
  {
   "cell_type": "markdown",
   "metadata": {},
   "source": [
    "## 4.5. Create model for each station and Model Serialising"
   ]
  },
  {
   "cell_type": "code",
   "execution_count": 22,
   "metadata": {},
   "outputs": [],
   "source": [
    "import pickle\n",
    "\n",
    "id_list = list(df_merged['station_id'].unique())\n",
    "for station_id in id_list:\n",
    "    df_station = df_merged[df_merged['station_id']==station_id]\n",
    "    \n",
    "    # Select model features and store them in a new dataframe\n",
    "    input_data = pd.DataFrame(df_station[['dt_dayofweek', 'dt_hour', 'rain']])\n",
    "\n",
    "    # Define target variable\n",
    "    output_data = df_station['available_bikes']\n",
    "\n",
    "    # Split dataset to train and test\n",
    "    x_train, x_test, y_train, y_test = train_test_split(input_data, output_data, test_size=0.25, random_state=42)\n",
    "\n",
    "    lr = LinearRegression()\n",
    "\n",
    "    # Train the model\n",
    "    lr.fit(x_train, y_train)\n",
    "    \n",
    "    with open('./models/' + str(station_id) + '_station_model.pkl', 'wb') as handle:\n",
    "        pickle.dump(lr, handle, pickle.HIGHEST_PROTOCOL)"
   ]
  }
 ],
 "metadata": {
  "kernelspec": {
   "display_name": "Python 3",
   "language": "python",
   "name": "python3"
  },
  "language_info": {
   "codemirror_mode": {
    "name": "ipython",
    "version": 3
   },
   "file_extension": ".py",
   "mimetype": "text/x-python",
   "name": "python",
   "nbconvert_exporter": "python",
   "pygments_lexer": "ipython3",
   "version": "3.7.6"
  }
 },
 "nbformat": 4,
 "nbformat_minor": 4
}
